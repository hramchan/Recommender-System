{
 "cells": [
  {
   "cell_type": "code",
   "execution_count": 263,
   "metadata": {},
   "outputs": [],
   "source": [
    "import numpy as np\n",
    "import pandas as pd\n",
    "import matplotlib.pyplot as plt\n",
    "%matplotlib inline\n"
   ]
  },
  {
   "cell_type": "code",
   "execution_count": 264,
   "metadata": {},
   "outputs": [],
   "source": [
    "header =['ISBN', 'Book_Title', 'Book-Author', 'Year-Of-Publication', 'Publisher', 'Image-URL-S', 'Image-URL-M', 'Image-URL-L']\n",
    "\n",
    "books = pd.read_csv('C:\\Users\\Helen\\Desktop\\BX-Books.csv', sep=';', names=header, skiprows=1, low_memory=False)\n"
   ]
  },
  {
   "cell_type": "code",
   "execution_count": 265,
   "metadata": {},
   "outputs": [
    {
     "data": {
      "text/html": [
       "<div>\n",
       "<style scoped>\n",
       "    .dataframe tbody tr th:only-of-type {\n",
       "        vertical-align: middle;\n",
       "    }\n",
       "\n",
       "    .dataframe tbody tr th {\n",
       "        vertical-align: top;\n",
       "    }\n",
       "\n",
       "    .dataframe thead th {\n",
       "        text-align: right;\n",
       "    }\n",
       "</style>\n",
       "<table border=\"1\" class=\"dataframe\">\n",
       "  <thead>\n",
       "    <tr style=\"text-align: right;\">\n",
       "      <th></th>\n",
       "      <th>ISBN</th>\n",
       "      <th>Book_Title</th>\n",
       "      <th>Book-Author</th>\n",
       "      <th>Year-Of-Publication</th>\n",
       "      <th>Publisher</th>\n",
       "      <th>Image-URL-S</th>\n",
       "      <th>Image-URL-M</th>\n",
       "      <th>Image-URL-L</th>\n",
       "    </tr>\n",
       "  </thead>\n",
       "  <tbody>\n",
       "    <tr>\n",
       "      <th>0</th>\n",
       "      <td>0195153448</td>\n",
       "      <td>Classical Mythology</td>\n",
       "      <td>Mark P. O. Morford</td>\n",
       "      <td>2002</td>\n",
       "      <td>Oxford University Press</td>\n",
       "      <td>http://images.amazon.com/images/P/0195153448.0...</td>\n",
       "      <td>http://images.amazon.com/images/P/0195153448.0...</td>\n",
       "      <td>http://images.amazon.com/images/P/0195153448.0...</td>\n",
       "    </tr>\n",
       "    <tr>\n",
       "      <th>1</th>\n",
       "      <td>0002005018</td>\n",
       "      <td>Clara Callan</td>\n",
       "      <td>Richard Bruce Wright</td>\n",
       "      <td>2001</td>\n",
       "      <td>HarperFlamingo Canada</td>\n",
       "      <td>http://images.amazon.com/images/P/0002005018.0...</td>\n",
       "      <td>http://images.amazon.com/images/P/0002005018.0...</td>\n",
       "      <td>http://images.amazon.com/images/P/0002005018.0...</td>\n",
       "    </tr>\n",
       "    <tr>\n",
       "      <th>2</th>\n",
       "      <td>0060973129</td>\n",
       "      <td>Decision in Normandy</td>\n",
       "      <td>Carlo D'Este</td>\n",
       "      <td>1991</td>\n",
       "      <td>HarperPerennial</td>\n",
       "      <td>http://images.amazon.com/images/P/0060973129.0...</td>\n",
       "      <td>http://images.amazon.com/images/P/0060973129.0...</td>\n",
       "      <td>http://images.amazon.com/images/P/0060973129.0...</td>\n",
       "    </tr>\n",
       "    <tr>\n",
       "      <th>3</th>\n",
       "      <td>0374157065</td>\n",
       "      <td>Flu: The Story of the Great Influenza Pandemic...</td>\n",
       "      <td>Gina Bari Kolata</td>\n",
       "      <td>1999</td>\n",
       "      <td>Farrar Straus Giroux</td>\n",
       "      <td>http://images.amazon.com/images/P/0374157065.0...</td>\n",
       "      <td>http://images.amazon.com/images/P/0374157065.0...</td>\n",
       "      <td>http://images.amazon.com/images/P/0374157065.0...</td>\n",
       "    </tr>\n",
       "    <tr>\n",
       "      <th>4</th>\n",
       "      <td>0393045218</td>\n",
       "      <td>The Mummies of Urumchi</td>\n",
       "      <td>E. J. W. Barber</td>\n",
       "      <td>1999</td>\n",
       "      <td>W. W. Norton &amp;amp; Company</td>\n",
       "      <td>http://images.amazon.com/images/P/0393045218.0...</td>\n",
       "      <td>http://images.amazon.com/images/P/0393045218.0...</td>\n",
       "      <td>http://images.amazon.com/images/P/0393045218.0...</td>\n",
       "    </tr>\n",
       "  </tbody>\n",
       "</table>\n",
       "</div>"
      ],
      "text/plain": [
       "         ISBN                                         Book_Title  \\\n",
       "0  0195153448                                Classical Mythology   \n",
       "1  0002005018                                       Clara Callan   \n",
       "2  0060973129                               Decision in Normandy   \n",
       "3  0374157065  Flu: The Story of the Great Influenza Pandemic...   \n",
       "4  0393045218                             The Mummies of Urumchi   \n",
       "\n",
       "            Book-Author Year-Of-Publication                   Publisher  \\\n",
       "0    Mark P. O. Morford                2002     Oxford University Press   \n",
       "1  Richard Bruce Wright                2001       HarperFlamingo Canada   \n",
       "2          Carlo D'Este                1991             HarperPerennial   \n",
       "3      Gina Bari Kolata                1999        Farrar Straus Giroux   \n",
       "4       E. J. W. Barber                1999  W. W. Norton &amp; Company   \n",
       "\n",
       "                                         Image-URL-S  \\\n",
       "0  http://images.amazon.com/images/P/0195153448.0...   \n",
       "1  http://images.amazon.com/images/P/0002005018.0...   \n",
       "2  http://images.amazon.com/images/P/0060973129.0...   \n",
       "3  http://images.amazon.com/images/P/0374157065.0...   \n",
       "4  http://images.amazon.com/images/P/0393045218.0...   \n",
       "\n",
       "                                         Image-URL-M  \\\n",
       "0  http://images.amazon.com/images/P/0195153448.0...   \n",
       "1  http://images.amazon.com/images/P/0002005018.0...   \n",
       "2  http://images.amazon.com/images/P/0060973129.0...   \n",
       "3  http://images.amazon.com/images/P/0374157065.0...   \n",
       "4  http://images.amazon.com/images/P/0393045218.0...   \n",
       "\n",
       "                                         Image-URL-L  \n",
       "0  http://images.amazon.com/images/P/0195153448.0...  \n",
       "1  http://images.amazon.com/images/P/0002005018.0...  \n",
       "2  http://images.amazon.com/images/P/0060973129.0...  \n",
       "3  http://images.amazon.com/images/P/0374157065.0...  \n",
       "4  http://images.amazon.com/images/P/0393045218.0...  "
      ]
     },
     "execution_count": 265,
     "metadata": {},
     "output_type": "execute_result"
    }
   ],
   "source": [
    "books.head(5)\n"
   ]
  },
  {
   "cell_type": "code",
   "execution_count": 266,
   "metadata": {},
   "outputs": [
    {
     "data": {
      "text/html": [
       "<div>\n",
       "<style scoped>\n",
       "    .dataframe tbody tr th:only-of-type {\n",
       "        vertical-align: middle;\n",
       "    }\n",
       "\n",
       "    .dataframe tbody tr th {\n",
       "        vertical-align: top;\n",
       "    }\n",
       "\n",
       "    .dataframe thead th {\n",
       "        text-align: right;\n",
       "    }\n",
       "</style>\n",
       "<table border=\"1\" class=\"dataframe\">\n",
       "  <thead>\n",
       "    <tr style=\"text-align: right;\">\n",
       "      <th></th>\n",
       "      <th>count</th>\n",
       "      <th>unique</th>\n",
       "      <th>top</th>\n",
       "      <th>freq</th>\n",
       "    </tr>\n",
       "  </thead>\n",
       "  <tbody>\n",
       "    <tr>\n",
       "      <th>ISBN</th>\n",
       "      <td>271379</td>\n",
       "      <td>271379</td>\n",
       "      <td>0880015780</td>\n",
       "      <td>1</td>\n",
       "    </tr>\n",
       "    <tr>\n",
       "      <th>Book_Title</th>\n",
       "      <td>271379</td>\n",
       "      <td>242154</td>\n",
       "      <td>Selected Poems</td>\n",
       "      <td>27</td>\n",
       "    </tr>\n",
       "    <tr>\n",
       "      <th>Book-Author</th>\n",
       "      <td>271378</td>\n",
       "      <td>102042</td>\n",
       "      <td>Agatha Christie</td>\n",
       "      <td>632</td>\n",
       "    </tr>\n",
       "    <tr>\n",
       "      <th>Year-Of-Publication</th>\n",
       "      <td>271379</td>\n",
       "      <td>137</td>\n",
       "      <td>2002</td>\n",
       "      <td>17627</td>\n",
       "    </tr>\n",
       "    <tr>\n",
       "      <th>Publisher</th>\n",
       "      <td>271377</td>\n",
       "      <td>16824</td>\n",
       "      <td>Harlequin</td>\n",
       "      <td>7535</td>\n",
       "    </tr>\n",
       "    <tr>\n",
       "      <th>Image-URL-S</th>\n",
       "      <td>271379</td>\n",
       "      <td>271063</td>\n",
       "      <td>http://images.amazon.com/images/P/156205791X.0...</td>\n",
       "      <td>2</td>\n",
       "    </tr>\n",
       "    <tr>\n",
       "      <th>Image-URL-M</th>\n",
       "      <td>271379</td>\n",
       "      <td>271063</td>\n",
       "      <td>http://images.amazon.com/images/P/051513449X.0...</td>\n",
       "      <td>2</td>\n",
       "    </tr>\n",
       "    <tr>\n",
       "      <th>Image-URL-L</th>\n",
       "      <td>271376</td>\n",
       "      <td>271060</td>\n",
       "      <td>http://images.amazon.com/images/P/188364254X.0...</td>\n",
       "      <td>2</td>\n",
       "    </tr>\n",
       "  </tbody>\n",
       "</table>\n",
       "</div>"
      ],
      "text/plain": [
       "                      count  unique  \\\n",
       "ISBN                 271379  271379   \n",
       "Book_Title           271379  242154   \n",
       "Book-Author          271378  102042   \n",
       "Year-Of-Publication  271379     137   \n",
       "Publisher            271377   16824   \n",
       "Image-URL-S          271379  271063   \n",
       "Image-URL-M          271379  271063   \n",
       "Image-URL-L          271376  271060   \n",
       "\n",
       "                                                                   top   freq  \n",
       "ISBN                                                        0880015780      1  \n",
       "Book_Title                                              Selected Poems     27  \n",
       "Book-Author                                            Agatha Christie    632  \n",
       "Year-Of-Publication                                               2002  17627  \n",
       "Publisher                                                    Harlequin   7535  \n",
       "Image-URL-S          http://images.amazon.com/images/P/156205791X.0...      2  \n",
       "Image-URL-M          http://images.amazon.com/images/P/051513449X.0...      2  \n",
       "Image-URL-L          http://images.amazon.com/images/P/188364254X.0...      2  "
      ]
     },
     "execution_count": 266,
     "metadata": {},
     "output_type": "execute_result"
    }
   ],
   "source": [
    "books.describe().transpose()\n"
   ]
  },
  {
   "cell_type": "code",
   "execution_count": 267,
   "metadata": {},
   "outputs": [
    {
     "data": {
      "text/plain": [
       "ISBN                   object\n",
       "Book_Title             object\n",
       "Book-Author            object\n",
       "Year-Of-Publication    object\n",
       "Publisher              object\n",
       "Image-URL-S            object\n",
       "Image-URL-M            object\n",
       "Image-URL-L            object\n",
       "dtype: object"
      ]
     },
     "execution_count": 267,
     "metadata": {},
     "output_type": "execute_result"
    }
   ],
   "source": [
    "books.dtypes\n"
   ]
  },
  {
   "cell_type": "code",
   "execution_count": 4,
   "metadata": {},
   "outputs": [
    {
     "data": {
      "text/plain": [
       "ISBN                    int64\n",
       "Book_Title             object\n",
       "Book-Author            object\n",
       "Year-Of-Publication     int64\n",
       "Publisher               int64\n",
       "Image-URL-S             int64\n",
       "Image-URL-M             int64\n",
       "Image-URL-L             int64\n",
       "dtype: object"
      ]
     },
     "execution_count": 4,
     "metadata": {},
     "output_type": "execute_result"
    }
   ],
   "source": [
    "from sklearn.preprocessing import LabelEncoder\n",
    "\n",
    "var_mod = ['ISBN', 'Year-Of-Publication', 'Publisher', 'Image-URL-S', 'Image-URL-M', 'Image-URL-L']\n",
    "\n",
    "le = LabelEncoder()\n",
    "for i in var_mod:\n",
    "    books[i] = le.fit_transform(books[i])\n",
    "books.dtypes\n"
   ]
  },
  {
   "cell_type": "code",
   "execution_count": 5,
   "metadata": {},
   "outputs": [
    {
     "data": {
      "text/html": [
       "<div>\n",
       "<style scoped>\n",
       "    .dataframe tbody tr th:only-of-type {\n",
       "        vertical-align: middle;\n",
       "    }\n",
       "\n",
       "    .dataframe tbody tr th {\n",
       "        vertical-align: top;\n",
       "    }\n",
       "\n",
       "    .dataframe thead th {\n",
       "        text-align: right;\n",
       "    }\n",
       "</style>\n",
       "<table border=\"1\" class=\"dataframe\">\n",
       "  <thead>\n",
       "    <tr style=\"text-align: right;\">\n",
       "      <th></th>\n",
       "      <th>User_ID</th>\n",
       "      <th>Location</th>\n",
       "      <th>Age</th>\n",
       "    </tr>\n",
       "  </thead>\n",
       "  <tbody>\n",
       "    <tr>\n",
       "      <th>0</th>\n",
       "      <td>1</td>\n",
       "      <td>nyc, new york, usa</td>\n",
       "      <td>NaN</td>\n",
       "    </tr>\n",
       "    <tr>\n",
       "      <th>1</th>\n",
       "      <td>2</td>\n",
       "      <td>stockton, california, usa</td>\n",
       "      <td>18.0</td>\n",
       "    </tr>\n",
       "    <tr>\n",
       "      <th>2</th>\n",
       "      <td>3</td>\n",
       "      <td>moscow, yukon territory, russia</td>\n",
       "      <td>NaN</td>\n",
       "    </tr>\n",
       "    <tr>\n",
       "      <th>3</th>\n",
       "      <td>4</td>\n",
       "      <td>porto, v.n.gaia, portugal</td>\n",
       "      <td>17.0</td>\n",
       "    </tr>\n",
       "    <tr>\n",
       "      <th>4</th>\n",
       "      <td>5</td>\n",
       "      <td>farnborough, hants, united kingdom</td>\n",
       "      <td>NaN</td>\n",
       "    </tr>\n",
       "  </tbody>\n",
       "</table>\n",
       "</div>"
      ],
      "text/plain": [
       "   User_ID                            Location   Age\n",
       "0        1                  nyc, new york, usa   NaN\n",
       "1        2           stockton, california, usa  18.0\n",
       "2        3     moscow, yukon territory, russia   NaN\n",
       "3        4           porto, v.n.gaia, portugal  17.0\n",
       "4        5  farnborough, hants, united kingdom   NaN"
      ]
     },
     "execution_count": 5,
     "metadata": {},
     "output_type": "execute_result"
    }
   ],
   "source": [
    "# Viewing below the user table, \"Age\" attribute has missing values, for this type of problem\n",
    "# not significant to the model. Therefore, I did not fill in missing values since this column will \n",
    "# be dropped. \n",
    "\n",
    "header = ['User_ID', 'Location', 'Age']\n",
    "users = pd.read_csv('C:\\Users\\Helen\\Desktop\\BX-Users.csv', sep=';', names=header, skiprows=1, low_memory=False)\n",
    "\n",
    "users.head(5)\n"
   ]
  },
  {
   "cell_type": "code",
   "execution_count": 6,
   "metadata": {},
   "outputs": [
    {
     "data": {
      "text/html": [
       "<div>\n",
       "<style scoped>\n",
       "    .dataframe tbody tr th:only-of-type {\n",
       "        vertical-align: middle;\n",
       "    }\n",
       "\n",
       "    .dataframe tbody tr th {\n",
       "        vertical-align: top;\n",
       "    }\n",
       "\n",
       "    .dataframe thead th {\n",
       "        text-align: right;\n",
       "    }\n",
       "</style>\n",
       "<table border=\"1\" class=\"dataframe\">\n",
       "  <thead>\n",
       "    <tr style=\"text-align: right;\">\n",
       "      <th></th>\n",
       "      <th>User_ID</th>\n",
       "      <th>ISBN</th>\n",
       "      <th>Book_Rating</th>\n",
       "    </tr>\n",
       "  </thead>\n",
       "  <tbody>\n",
       "    <tr>\n",
       "      <th>0</th>\n",
       "      <td>276725</td>\n",
       "      <td>034545104X</td>\n",
       "      <td>0</td>\n",
       "    </tr>\n",
       "    <tr>\n",
       "      <th>1</th>\n",
       "      <td>276726</td>\n",
       "      <td>0155061224</td>\n",
       "      <td>5</td>\n",
       "    </tr>\n",
       "    <tr>\n",
       "      <th>2</th>\n",
       "      <td>276727</td>\n",
       "      <td>0446520802</td>\n",
       "      <td>0</td>\n",
       "    </tr>\n",
       "    <tr>\n",
       "      <th>3</th>\n",
       "      <td>276729</td>\n",
       "      <td>052165615X</td>\n",
       "      <td>3</td>\n",
       "    </tr>\n",
       "    <tr>\n",
       "      <th>4</th>\n",
       "      <td>276729</td>\n",
       "      <td>0521795028</td>\n",
       "      <td>6</td>\n",
       "    </tr>\n",
       "  </tbody>\n",
       "</table>\n",
       "</div>"
      ],
      "text/plain": [
       "   User_ID        ISBN  Book_Rating\n",
       "0   276725  034545104X            0\n",
       "1   276726  0155061224            5\n",
       "2   276727  0446520802            0\n",
       "3   276729  052165615X            3\n",
       "4   276729  0521795028            6"
      ]
     },
     "execution_count": 6,
     "metadata": {},
     "output_type": "execute_result"
    }
   ],
   "source": [
    "header = ['User_ID', 'ISBN', 'Book_Rating']\n",
    "bk_rating = pd.read_csv('C:\\Users\\Helen\\Desktop\\BX-Book-Ratings.csv', sep=';', names=header, skiprows=1, low_memory=False)\n",
    "bk_rating.head(5)\n"
   ]
  },
  {
   "cell_type": "code",
   "execution_count": 7,
   "metadata": {},
   "outputs": [
    {
     "data": {
      "text/plain": [
       "User_ID        int64\n",
       "ISBN           int64\n",
       "Book_Rating    int64\n",
       "dtype: object"
      ]
     },
     "execution_count": 7,
     "metadata": {},
     "output_type": "execute_result"
    }
   ],
   "source": [
    "from sklearn.preprocessing import LabelEncoder\n",
    "\n",
    "var_mod = ['User_ID','ISBN', 'Book_Rating']\n",
    "\n",
    "le = LabelEncoder()\n",
    "for i in var_mod:\n",
    "    bk_rating[i] = le.fit_transform(bk_rating[i])\n",
    "bk_rating.dtypes\n"
   ]
  },
  {
   "cell_type": "code",
   "execution_count": 8,
   "metadata": {},
   "outputs": [
    {
     "name": "stdout",
     "output_type": "stream",
     "text": [
      "User_ID       int64\n",
      "Location     object\n",
      "Age         float64\n",
      "dtype: object\n"
     ]
    }
   ],
   "source": [
    "users.describe()\n",
    "print users.dtypes\n"
   ]
  },
  {
   "cell_type": "code",
   "execution_count": 268,
   "metadata": {},
   "outputs": [
    {
     "name": "stdout",
     "output_type": "stream",
     "text": [
      "Size of book rating dataframe = (1149780, 3)\n",
      "Size of books dataframe = (271379, 8)\n",
      "Size of users dataframe = (278858, 3)\n"
     ]
    }
   ],
   "source": [
    "print 'Size of book rating dataframe = ' + str(bk_rating.shape)\n",
    "print 'Size of books dataframe = ' + str(books.shape)\n",
    "print 'Size of users dataframe = ' + str(users.shape)\n"
   ]
  },
  {
   "cell_type": "code",
   "execution_count": 269,
   "metadata": {},
   "outputs": [
    {
     "data": {
      "text/plain": [
       "<matplotlib.axes._subplots.AxesSubplot at 0x100ed908>"
      ]
     },
     "execution_count": 269,
     "metadata": {},
     "output_type": "execute_result"
    },
    {
     "data": {
      "image/png": "[encoded data removed]",
      "text/plain": [
       "<matplotlib.figure.Figure at 0x10642860>"
      ]
     },
     "metadata": {},
     "output_type": "display_data"
    }
   ],
   "source": [
    "# Viewing the plot below, there are many books that have a rating of 0, meaning the book has not been rated\n",
    "# The ratings (9,10) seem distributed and will use this criterian for analysis. \n",
    "\n",
    "\n",
    "bk_rating['Book_Rating'].value_counts().plot(kind='bar')\n"
   ]
  },
  {
   "cell_type": "code",
   "execution_count": 270,
   "metadata": {},
   "outputs": [
    {
     "name": "stdout",
     "output_type": "stream",
     "text": [
      "     User_ID    ISBN  Book_Rating\n",
      "6     104438  290525            8\n",
      "20    104443  166639            8\n",
      "27    104445  304928            8\n",
      "28    104446  169947            8\n",
      "44    104449  297928            8\n",
      "77    104455  318852            8\n",
      "83    104456   57001            8\n",
      "109   104461  102687            8\n",
      "114   104465  331622            8\n",
      "118   104466  316428            8\n"
     ]
    }
   ],
   "source": [
    "\n",
    "bk_query = bk_rating.query('Book_Rating == 8')\n",
    "print bk_query.head(10)\n"
   ]
  },
  {
   "cell_type": "code",
   "execution_count": 271,
   "metadata": {},
   "outputs": [
    {
     "data": {
      "text/plain": [
       "User_ID  ISBN  \n",
       "14       6191      1\n",
       "17       139557    1\n",
       "19       101162    1\n",
       "26       271213    1\n",
       "31       88342     1\n",
       "38       15482     1\n",
       "         73698     1\n",
       "41       319961    1\n",
       "44       41480     1\n",
       "         41578     1\n",
       "47       161948    1\n",
       "50       108465    1\n",
       "         116179    1\n",
       "61       325873    1\n",
       "         338033    1\n",
       "         338302    1\n",
       "68       247966    1\n",
       "         247988    1\n",
       "         248710    1\n",
       "         281848    1\n",
       "         283172    1\n",
       "         305624    1\n",
       "         310196    1\n",
       "         311813    1\n",
       "         311990    1\n",
       "         322092    1\n",
       "         336811    1\n",
       "         337037    1\n",
       "         337132    1\n",
       "         337346    1\n",
       "         337364    1\n",
       "         337509    1\n",
       "         337633    1\n",
       "         337634    1\n",
       "         337774    1\n",
       "         337957    1\n",
       "         337959    1\n",
       "         338028    1\n",
       "         338213    1\n",
       "         338215    1\n",
       "         338249    1\n",
       "         338257    1\n",
       "         338269    1\n",
       "         338275    1\n",
       "         338410    1\n",
       "         338508    1\n",
       "76       8872      1\n",
       "78       23524     1\n",
       "80       107575    1\n",
       "81       155313    1\n",
       "Name: ISBN, dtype: int64"
      ]
     },
     "execution_count": 271,
     "metadata": {},
     "output_type": "execute_result"
    }
   ],
   "source": [
    "# View of distributions of feature, \"User-ID\" and \"ISBN\", or the users vs. number of books read.\n",
    "\n",
    "user_isbn = bk_query.groupby([\"User_ID\",\"ISBN\"])[\"ISBN\"].count()\n",
    "user_isbn.head(50)\n",
    "\n"
   ]
  },
  {
   "cell_type": "code",
   "execution_count": 272,
   "metadata": {},
   "outputs": [
    {
     "name": "stdout",
     "output_type": "stream",
     "text": [
      "Total number of users:  105283\n",
      "Total number of books:  340556\n",
      "Total number of book ratings:  11\n"
     ]
    }
   ],
   "source": [
    "num_of_users = bk_rating.User_ID.unique().shape[0]\n",
    "print 'Total number of users:  '  + str(num_of_users)\n",
    "num_of_books = bk_rating.ISBN.unique().shape[0]\n",
    "print 'Total number of books:  '  + str(num_of_books)\n",
    "num_of_ratings = bk_rating.Book_Rating.unique().shape[0]\n",
    "print 'Total number of book ratings:  '  + str(num_of_ratings)\n"
   ]
  },
  {
   "cell_type": "code",
   "execution_count": 9,
   "metadata": {},
   "outputs": [
    {
     "data": {
      "text/html": [
       "<div>\n",
       "<style scoped>\n",
       "    .dataframe tbody tr th:only-of-type {\n",
       "        vertical-align: middle;\n",
       "    }\n",
       "\n",
       "    .dataframe tbody tr th {\n",
       "        vertical-align: top;\n",
       "    }\n",
       "\n",
       "    .dataframe thead th {\n",
       "        text-align: right;\n",
       "    }\n",
       "</style>\n",
       "<table border=\"1\" class=\"dataframe\">\n",
       "  <thead>\n",
       "    <tr style=\"text-align: right;\">\n",
       "      <th></th>\n",
       "      <th>User_ID</th>\n",
       "      <th>ISBN</th>\n",
       "      <th>Book_Rating</th>\n",
       "      <th>Book_Title</th>\n",
       "    </tr>\n",
       "  </thead>\n",
       "  <tbody>\n",
       "    <tr>\n",
       "      <th>0</th>\n",
       "      <td>104433</td>\n",
       "      <td>57188</td>\n",
       "      <td>0</td>\n",
       "      <td>Free Spirit</td>\n",
       "    </tr>\n",
       "    <tr>\n",
       "      <th>1</th>\n",
       "      <td>805</td>\n",
       "      <td>57188</td>\n",
       "      <td>5</td>\n",
       "      <td>Free Spirit</td>\n",
       "    </tr>\n",
       "    <tr>\n",
       "      <th>2</th>\n",
       "      <td>2372</td>\n",
       "      <td>57188</td>\n",
       "      <td>0</td>\n",
       "      <td>Free Spirit</td>\n",
       "    </tr>\n",
       "    <tr>\n",
       "      <th>3</th>\n",
       "      <td>3159</td>\n",
       "      <td>57188</td>\n",
       "      <td>5</td>\n",
       "      <td>Free Spirit</td>\n",
       "    </tr>\n",
       "    <tr>\n",
       "      <th>4</th>\n",
       "      <td>3711</td>\n",
       "      <td>57188</td>\n",
       "      <td>9</td>\n",
       "      <td>Free Spirit</td>\n",
       "    </tr>\n",
       "    <tr>\n",
       "      <th>5</th>\n",
       "      <td>8750</td>\n",
       "      <td>57188</td>\n",
       "      <td>0</td>\n",
       "      <td>Free Spirit</td>\n",
       "    </tr>\n",
       "    <tr>\n",
       "      <th>6</th>\n",
       "      <td>10519</td>\n",
       "      <td>57188</td>\n",
       "      <td>0</td>\n",
       "      <td>Free Spirit</td>\n",
       "    </tr>\n",
       "    <tr>\n",
       "      <th>7</th>\n",
       "      <td>10605</td>\n",
       "      <td>57188</td>\n",
       "      <td>0</td>\n",
       "      <td>Free Spirit</td>\n",
       "    </tr>\n",
       "    <tr>\n",
       "      <th>8</th>\n",
       "      <td>14799</td>\n",
       "      <td>57188</td>\n",
       "      <td>0</td>\n",
       "      <td>Free Spirit</td>\n",
       "    </tr>\n",
       "    <tr>\n",
       "      <th>9</th>\n",
       "      <td>19022</td>\n",
       "      <td>57188</td>\n",
       "      <td>9</td>\n",
       "      <td>Free Spirit</td>\n",
       "    </tr>\n",
       "  </tbody>\n",
       "</table>\n",
       "</div>"
      ],
      "text/plain": [
       "   User_ID   ISBN  Book_Rating   Book_Title\n",
       "0   104433  57188            0  Free Spirit\n",
       "1      805  57188            5  Free Spirit\n",
       "2     2372  57188            0  Free Spirit\n",
       "3     3159  57188            5  Free Spirit\n",
       "4     3711  57188            9  Free Spirit\n",
       "5     8750  57188            0  Free Spirit\n",
       "6    10519  57188            0  Free Spirit\n",
       "7    10605  57188            0  Free Spirit\n",
       "8    14799  57188            0  Free Spirit\n",
       "9    19022  57188            9  Free Spirit"
      ]
     },
     "execution_count": 9,
     "metadata": {},
     "output_type": "execute_result"
    }
   ],
   "source": [
    "# Merge files, users and bk_rating to consolidate into one frame\n",
    "\n",
    "bk_comb = pd.merge(bk_rating, books, on ='ISBN')\n",
    "header =['Book-Author','Year-Of-Publication', 'Publisher', 'Image-URL-S', 'Image-URL-M', 'Image-URL-L']\n",
    "bk_comb = bk_comb.drop(header, axis=1)\n",
    "bk_comb.head(10)\n"
   ]
  },
  {
   "cell_type": "code",
   "execution_count": 10,
   "metadata": {},
   "outputs": [
    {
     "data": {
      "text/html": [
       "<div>\n",
       "<style scoped>\n",
       "    .dataframe tbody tr th:only-of-type {\n",
       "        vertical-align: middle;\n",
       "    }\n",
       "\n",
       "    .dataframe tbody tr th {\n",
       "        vertical-align: top;\n",
       "    }\n",
       "\n",
       "    .dataframe thead th {\n",
       "        text-align: right;\n",
       "    }\n",
       "</style>\n",
       "<table border=\"1\" class=\"dataframe\">\n",
       "  <thead>\n",
       "    <tr style=\"text-align: right;\">\n",
       "      <th></th>\n",
       "      <th>User_ID</th>\n",
       "      <th>ISBN</th>\n",
       "      <th>Book_Rating</th>\n",
       "      <th>Book_Title</th>\n",
       "    </tr>\n",
       "  </thead>\n",
       "  <tbody>\n",
       "    <tr>\n",
       "      <th>13</th>\n",
       "      <td>24223</td>\n",
       "      <td>57188</td>\n",
       "      <td>8</td>\n",
       "      <td>Free Spirit</td>\n",
       "    </tr>\n",
       "    <tr>\n",
       "      <th>14</th>\n",
       "      <td>29316</td>\n",
       "      <td>57188</td>\n",
       "      <td>8</td>\n",
       "      <td>Free Spirit</td>\n",
       "    </tr>\n",
       "    <tr>\n",
       "      <th>52</th>\n",
       "      <td>92218</td>\n",
       "      <td>57188</td>\n",
       "      <td>8</td>\n",
       "      <td>Free Spirit</td>\n",
       "    </tr>\n",
       "    <tr>\n",
       "      <th>91</th>\n",
       "      <td>24067</td>\n",
       "      <td>107392</td>\n",
       "      <td>8</td>\n",
       "      <td>Love Once &amp;amp; Forever (Timeswept)</td>\n",
       "    </tr>\n",
       "    <tr>\n",
       "      <th>92</th>\n",
       "      <td>24475</td>\n",
       "      <td>107392</td>\n",
       "      <td>8</td>\n",
       "      <td>Love Once &amp;amp; Forever (Timeswept)</td>\n",
       "    </tr>\n",
       "    <tr>\n",
       "      <th>122</th>\n",
       "      <td>58593</td>\n",
       "      <td>107392</td>\n",
       "      <td>8</td>\n",
       "      <td>Love Once &amp;amp; Forever (Timeswept)</td>\n",
       "    </tr>\n",
       "    <tr>\n",
       "      <th>124</th>\n",
       "      <td>59714</td>\n",
       "      <td>107392</td>\n",
       "      <td>8</td>\n",
       "      <td>Love Once &amp;amp; Forever (Timeswept)</td>\n",
       "    </tr>\n",
       "    <tr>\n",
       "      <th>127</th>\n",
       "      <td>63972</td>\n",
       "      <td>107392</td>\n",
       "      <td>8</td>\n",
       "      <td>Love Once &amp;amp; Forever (Timeswept)</td>\n",
       "    </tr>\n",
       "    <tr>\n",
       "      <th>136</th>\n",
       "      <td>71673</td>\n",
       "      <td>107392</td>\n",
       "      <td>8</td>\n",
       "      <td>Love Once &amp;amp; Forever (Timeswept)</td>\n",
       "    </tr>\n",
       "    <tr>\n",
       "      <th>149</th>\n",
       "      <td>82468</td>\n",
       "      <td>107392</td>\n",
       "      <td>8</td>\n",
       "      <td>Love Once &amp;amp; Forever (Timeswept)</td>\n",
       "    </tr>\n",
       "  </tbody>\n",
       "</table>\n",
       "</div>"
      ],
      "text/plain": [
       "     User_ID    ISBN  Book_Rating                           Book_Title\n",
       "13     24223   57188            8                          Free Spirit\n",
       "14     29316   57188            8                          Free Spirit\n",
       "52     92218   57188            8                          Free Spirit\n",
       "91     24067  107392            8  Love Once &amp; Forever (Timeswept)\n",
       "92     24475  107392            8  Love Once &amp; Forever (Timeswept)\n",
       "122    58593  107392            8  Love Once &amp; Forever (Timeswept)\n",
       "124    59714  107392            8  Love Once &amp; Forever (Timeswept)\n",
       "127    63972  107392            8  Love Once &amp; Forever (Timeswept)\n",
       "136    71673  107392            8  Love Once &amp; Forever (Timeswept)\n",
       "149    82468  107392            8  Love Once &amp; Forever (Timeswept)"
      ]
     },
     "execution_count": 10,
     "metadata": {},
     "output_type": "execute_result"
    }
   ],
   "source": [
    "# Extract score of 8 rating and use for analysis \n",
    "\n",
    "bk_comb_new = bk_comb[bk_comb['Book_Rating'] == 8]\n",
    "bk_comb_new.head(10)\n"
   ]
  },
  {
   "cell_type": "code",
   "execution_count": 11,
   "metadata": {},
   "outputs": [
    {
     "name": "stdout",
     "output_type": "stream",
     "text": [
      "ISBN     16      18      28      32      33      55      64      66      \\\n",
      "User_ID                                                                   \n",
      "14          0.0     0.0     0.0     0.0     0.0     0.0     0.0     0.0   \n",
      "17          0.0     0.0     0.0     0.0     0.0     0.0     0.0     0.0   \n",
      "19          0.0     0.0     0.0     0.0     0.0     0.0     0.0     0.0   \n",
      "26          0.0     0.0     0.0     0.0     0.0     0.0     0.0     0.0   \n",
      "31          0.0     0.0     0.0     0.0     0.0     0.0     0.0     0.0   \n",
      "38          0.0     0.0     0.0     0.0     0.0     0.0     0.0     0.0   \n",
      "44          0.0     0.0     0.0     0.0     0.0     0.0     0.0     0.0   \n",
      "47          0.0     0.0     0.0     0.0     0.0     0.0     0.0     0.0   \n",
      "50          0.0     0.0     0.0     0.0     0.0     0.0     0.0     0.0   \n",
      "68          0.0     0.0     0.0     0.0     0.0     0.0     0.0     0.0   \n",
      "76          0.0     0.0     0.0     0.0     0.0     0.0     0.0     0.0   \n",
      "78          0.0     0.0     0.0     0.0     0.0     0.0     0.0     0.0   \n",
      "80          0.0     0.0     0.0     0.0     0.0     0.0     0.0     0.0   \n",
      "81          0.0     0.0     0.0     0.0     0.0     0.0     0.0     0.0   \n",
      "84          0.0     0.0     0.0     0.0     0.0     0.0     0.0     0.0   \n",
      "90          0.0     0.0     0.0     0.0     0.0     0.0     0.0     0.0   \n",
      "91          0.0     0.0     0.0     0.0     0.0     0.0     0.0     0.0   \n",
      "93          0.0     0.0     0.0     0.0     0.0     0.0     0.0     0.0   \n",
      "95          0.0     0.0     0.0     0.0     0.0     0.0     0.0     0.0   \n",
      "96          0.0     0.0     0.0     0.0     0.0     0.0     0.0     0.0   \n",
      "97          0.0     0.0     0.0     0.0     0.0     0.0     0.0     0.0   \n",
      "99          0.0     0.0     0.0     0.0     0.0     0.0     0.0     0.0   \n",
      "110         0.0     0.0     0.0     0.0     0.0     0.0     0.0     0.0   \n",
      "116         0.0     0.0     0.0     0.0     0.0     0.0     0.0     0.0   \n",
      "119         0.0     0.0     0.0     0.0     0.0     0.0     0.0     0.0   \n",
      "126         0.0     0.0     0.0     0.0     0.0     0.0     0.0     0.0   \n",
      "136         0.0     0.0     0.0     0.0     0.0     0.0     0.0     0.0   \n",
      "141         0.0     0.0     0.0     0.0     0.0     0.0     0.0     0.0   \n",
      "142         0.0     0.0     0.0     0.0     0.0     0.0     0.0     0.0   \n",
      "144         0.0     0.0     0.0     0.0     0.0     0.0     0.0     0.0   \n",
      "...         ...     ...     ...     ...     ...     ...     ...     ...   \n",
      "105150      0.0     0.0     0.0     0.0     0.0     0.0     0.0     0.0   \n",
      "105153      0.0     0.0     0.0     0.0     0.0     0.0     0.0     0.0   \n",
      "105155      0.0     0.0     0.0     0.0     0.0     0.0     0.0     0.0   \n",
      "105159      0.0     0.0     0.0     0.0     0.0     0.0     0.0     0.0   \n",
      "105160      0.0     0.0     0.0     0.0     0.0     0.0     0.0     0.0   \n",
      "105169      0.0     0.0     0.0     0.0     0.0     0.0     0.0     0.0   \n",
      "105171      0.0     0.0     0.0     0.0     0.0     0.0     0.0     0.0   \n",
      "105172      0.0     0.0     0.0     0.0     0.0     0.0     0.0     0.0   \n",
      "105177      0.0     0.0     0.0     0.0     0.0     0.0     0.0     0.0   \n",
      "105182      0.0     0.0     0.0     0.0     0.0     0.0     0.0     0.0   \n",
      "105183      0.0     0.0     0.0     0.0     0.0     0.0     0.0     0.0   \n",
      "105186      0.0     0.0     0.0     0.0     0.0     0.0     0.0     0.0   \n",
      "105189      0.0     0.0     0.0     0.0     0.0     0.0     0.0     0.0   \n",
      "105193      0.0     0.0     0.0     0.0     0.0     0.0     0.0     0.0   \n",
      "105195      0.0     0.0     0.0     0.0     0.0     0.0     0.0     0.0   \n",
      "105199      0.0     0.0     0.0     0.0     0.0     0.0     0.0     0.0   \n",
      "105201      0.0     0.0     0.0     0.0     0.0     0.0     0.0     0.0   \n",
      "105220      0.0     0.0     0.0     0.0     0.0     0.0     0.0     0.0   \n",
      "105223      0.0     0.0     0.0     0.0     0.0     0.0     0.0     0.0   \n",
      "105229      0.0     0.0     0.0     0.0     0.0     0.0     0.0     0.0   \n",
      "105232      0.0     0.0     0.0     0.0     0.0     0.0     0.0     0.0   \n",
      "105233      0.0     0.0     0.0     0.0     0.0     0.0     0.0     0.0   \n",
      "105246      0.0     0.0     0.0     0.0     0.0     0.0     0.0     0.0   \n",
      "105271      0.0     0.0     0.0     0.0     0.0     0.0     0.0     0.0   \n",
      "105274      0.0     0.0     0.0     0.0     0.0     0.0     0.0     0.0   \n",
      "105276      0.0     0.0     0.0     0.0     0.0     0.0     0.0     0.0   \n",
      "105278      0.0     0.0     0.0     0.0     0.0     0.0     0.0     0.0   \n",
      "105280      0.0     0.0     0.0     0.0     0.0     0.0     0.0     0.0   \n",
      "105281      0.0     0.0     0.0     0.0     0.0     0.0     0.0     0.0   \n",
      "105282      0.0     0.0     0.0     0.0     0.0     0.0     0.0     0.0   \n",
      "\n",
      "ISBN     69      75       ...    271351  271353  271357  271358  271359  \\\n",
      "User_ID                   ...                                             \n",
      "14          0.0     0.0   ...       0.0     0.0     0.0     0.0     0.0   \n",
      "17          0.0     0.0   ...       0.0     0.0     0.0     0.0     0.0   \n",
      "19          0.0     0.0   ...       0.0     0.0     0.0     0.0     0.0   \n",
      "26          0.0     0.0   ...       0.0     0.0     0.0     0.0     0.0   \n",
      "31          0.0     0.0   ...       0.0     0.0     0.0     0.0     0.0   \n",
      "38          0.0     0.0   ...       0.0     0.0     0.0     0.0     0.0   \n",
      "44          0.0     0.0   ...       0.0     0.0     0.0     0.0     0.0   \n",
      "47          0.0     0.0   ...       0.0     0.0     0.0     0.0     0.0   \n",
      "50          0.0     0.0   ...       0.0     0.0     0.0     0.0     0.0   \n",
      "68          0.0     0.0   ...       0.0     0.0     0.0     0.0     0.0   \n",
      "76          0.0     0.0   ...       0.0     0.0     0.0     0.0     0.0   \n",
      "78          0.0     0.0   ...       0.0     0.0     0.0     0.0     0.0   \n",
      "80          0.0     0.0   ...       0.0     0.0     0.0     0.0     0.0   \n",
      "81          0.0     0.0   ...       0.0     0.0     0.0     0.0     0.0   \n",
      "84          0.0     0.0   ...       0.0     0.0     0.0     0.0     0.0   \n",
      "90          0.0     0.0   ...       0.0     0.0     0.0     0.0     0.0   \n",
      "91          0.0     0.0   ...       0.0     0.0     0.0     0.0     0.0   \n",
      "93          0.0     0.0   ...       0.0     0.0     0.0     0.0     0.0   \n",
      "95          0.0     0.0   ...       0.0     0.0     0.0     0.0     0.0   \n",
      "96          0.0     0.0   ...       0.0     0.0     0.0     0.0     0.0   \n",
      "97          0.0     0.0   ...       0.0     0.0     0.0     0.0     0.0   \n",
      "99          0.0     0.0   ...       0.0     0.0     0.0     0.0     0.0   \n",
      "110         0.0     0.0   ...       0.0     0.0     0.0     0.0     0.0   \n",
      "116         0.0     0.0   ...       0.0     0.0     0.0     0.0     0.0   \n",
      "119         0.0     0.0   ...       0.0     0.0     0.0     0.0     0.0   \n",
      "126         0.0     0.0   ...       0.0     0.0     0.0     0.0     0.0   \n",
      "136         0.0     0.0   ...       0.0     0.0     0.0     0.0     0.0   \n",
      "141         0.0     0.0   ...       0.0     0.0     0.0     0.0     0.0   \n",
      "142         0.0     0.0   ...       0.0     0.0     0.0     0.0     0.0   \n",
      "144         0.0     0.0   ...       0.0     0.0     0.0     0.0     0.0   \n",
      "...         ...     ...   ...       ...     ...     ...     ...     ...   \n",
      "105150      0.0     0.0   ...       0.0     0.0     0.0     0.0     0.0   \n",
      "105153      0.0     0.0   ...       0.0     0.0     0.0     0.0     0.0   \n",
      "105155      0.0     0.0   ...       0.0     0.0     0.0     0.0     0.0   \n",
      "105159      0.0     0.0   ...       0.0     0.0     0.0     0.0     0.0   \n",
      "105160      0.0     0.0   ...       0.0     0.0     0.0     0.0     0.0   \n",
      "105169      0.0     0.0   ...       0.0     0.0     0.0     0.0     0.0   \n",
      "105171      0.0     0.0   ...       0.0     0.0     0.0     0.0     0.0   \n",
      "105172      0.0     0.0   ...       0.0     0.0     0.0     0.0     0.0   \n",
      "105177      0.0     0.0   ...       0.0     0.0     0.0     0.0     0.0   \n",
      "105182      0.0     0.0   ...       0.0     0.0     0.0     0.0     0.0   \n",
      "105183      0.0     0.0   ...       0.0     0.0     0.0     0.0     0.0   \n",
      "105186      0.0     0.0   ...       0.0     0.0     0.0     0.0     0.0   \n",
      "105189      0.0     0.0   ...       0.0     0.0     0.0     0.0     0.0   \n",
      "105193      0.0     0.0   ...       0.0     0.0     0.0     0.0     0.0   \n",
      "105195      0.0     0.0   ...       0.0     0.0     0.0     0.0     0.0   \n",
      "105199      0.0     0.0   ...       0.0     0.0     0.0     0.0     0.0   \n",
      "105201      0.0     0.0   ...       0.0     0.0     0.0     0.0     0.0   \n",
      "105220      0.0     0.0   ...       0.0     0.0     0.0     0.0     0.0   \n",
      "105223      0.0     0.0   ...       0.0     0.0     0.0     0.0     0.0   \n",
      "105229      0.0     0.0   ...       0.0     0.0     0.0     0.0     0.0   \n",
      "105232      0.0     0.0   ...       0.0     0.0     0.0     0.0     0.0   \n",
      "105233      0.0     0.0   ...       0.0     0.0     0.0     0.0     0.0   \n",
      "105246      0.0     0.0   ...       0.0     0.0     0.0     0.0     0.0   \n",
      "105271      0.0     0.0   ...       0.0     0.0     0.0     0.0     0.0   \n",
      "105274      0.0     0.0   ...       0.0     0.0     0.0     0.0     0.0   \n",
      "105276      0.0     0.0   ...       0.0     0.0     0.0     0.0     0.0   \n",
      "105278      0.0     0.0   ...       0.0     0.0     0.0     0.0     0.0   \n",
      "105280      0.0     0.0   ...       0.0     0.0     0.0     0.0     0.0   \n",
      "105281      0.0     0.0   ...       0.0     0.0     0.0     0.0     0.0   \n",
      "105282      0.0     0.0   ...       0.0     0.0     0.0     0.0     0.0   \n",
      "\n",
      "ISBN     271363  271369  271374  271375  271376  \n",
      "User_ID                                          \n",
      "14          0.0     0.0     0.0     0.0     0.0  \n",
      "17          0.0     0.0     0.0     0.0     0.0  \n",
      "19          0.0     0.0     0.0     0.0     0.0  \n",
      "26          0.0     0.0     0.0     0.0     0.0  \n",
      "31          0.0     0.0     0.0     0.0     0.0  \n",
      "38          0.0     0.0     0.0     0.0     0.0  \n",
      "44          0.0     0.0     0.0     0.0     0.0  \n",
      "47          0.0     0.0     0.0     0.0     0.0  \n",
      "50          0.0     0.0     0.0     0.0     0.0  \n",
      "68          0.0     0.0     0.0     0.0     0.0  \n",
      "76          0.0     0.0     0.0     0.0     0.0  \n",
      "78          0.0     0.0     0.0     0.0     0.0  \n",
      "80          0.0     0.0     0.0     0.0     0.0  \n",
      "81          0.0     0.0     0.0     0.0     0.0  \n",
      "84          0.0     0.0     0.0     0.0     0.0  \n",
      "90          0.0     0.0     0.0     0.0     0.0  \n",
      "91          0.0     0.0     0.0     0.0     0.0  \n",
      "93          0.0     0.0     0.0     0.0     0.0  \n",
      "95          0.0     0.0     0.0     0.0     0.0  \n",
      "96          0.0     0.0     0.0     0.0     0.0  \n",
      "97          0.0     0.0     0.0     0.0     0.0  \n",
      "99          0.0     0.0     0.0     0.0     0.0  \n",
      "110         0.0     0.0     0.0     0.0     0.0  \n",
      "116         0.0     0.0     0.0     0.0     0.0  \n",
      "119         0.0     0.0     0.0     0.0     0.0  \n",
      "126         0.0     0.0     0.0     0.0     0.0  \n",
      "136         0.0     0.0     0.0     0.0     0.0  \n",
      "141         0.0     0.0     0.0     0.0     0.0  \n",
      "142         0.0     0.0     0.0     0.0     0.0  \n",
      "144         0.0     0.0     0.0     0.0     0.0  \n",
      "...         ...     ...     ...     ...     ...  \n",
      "105150      0.0     0.0     0.0     0.0     0.0  \n",
      "105153      0.0     0.0     0.0     0.0     0.0  \n",
      "105155      0.0     0.0     0.0     0.0     0.0  \n",
      "105159      0.0     0.0     0.0     0.0     0.0  \n",
      "105160      0.0     0.0     0.0     0.0     0.0  \n",
      "105169      0.0     0.0     0.0     0.0     0.0  \n",
      "105171      0.0     0.0     0.0     0.0     0.0  \n",
      "105172      0.0     0.0     0.0     0.0     0.0  \n",
      "105177      0.0     0.0     0.0     0.0     0.0  \n",
      "105182      0.0     0.0     0.0     0.0     0.0  \n",
      "105183      0.0     0.0     0.0     0.0     0.0  \n",
      "105186      0.0     0.0     0.0     0.0     0.0  \n",
      "105189      0.0     0.0     0.0     0.0     0.0  \n",
      "105193      0.0     0.0     0.0     0.0     0.0  \n",
      "105195      0.0     0.0     0.0     0.0     0.0  \n",
      "105199      0.0     0.0     0.0     0.0     0.0  \n",
      "105201      0.0     0.0     0.0     0.0     0.0  \n",
      "105220      0.0     0.0     0.0     0.0     0.0  \n",
      "105223      0.0     0.0     0.0     0.0     0.0  \n",
      "105229      0.0     0.0     0.0     0.0     0.0  \n",
      "105232      0.0     0.0     0.0     0.0     0.0  \n",
      "105233      0.0     0.0     0.0     0.0     0.0  \n",
      "105246      0.0     0.0     0.0     0.0     0.0  \n",
      "105271      0.0     0.0     0.0     0.0     0.0  \n",
      "105274      0.0     0.0     0.0     0.0     0.0  \n",
      "105276      0.0     0.0     0.0     0.0     0.0  \n",
      "105278      0.0     0.0     0.0     0.0     0.0  \n",
      "105280      0.0     0.0     0.0     0.0     0.0  \n",
      "105281      0.0     0.0     0.0     0.0     0.0  \n",
      "105282      0.0     0.0     0.0     0.0     0.0  \n",
      "\n",
      "[28602 rows x 50144 columns]\n"
     ]
    }
   ],
   "source": [
    "# Due to large matrix(rating table) and issues with \"Memory Error\", I filtered the data to use\n",
    "# only ratings with score of 8\n",
    "# First, create pivot table to generate a user / item matrix.The matrix created has values of \"NaN\" indicating no rating for \n",
    "# particular book, filled with 0's to show that user did not rate the book. Since, matrix is large and sparse, transforming\n",
    "# the matrix to a sparse matrix one will help in handling complex matrix operations. \n",
    "# Use of scipy library module, \"csr_matrix\" will be used to transform to sparse matrix.     \n",
    "\n",
    "book_rating_pivot = bk_comb_new.pivot(index='User_ID', columns ='ISBN', values ='Book_Rating').fillna(0)\n",
    "print book_rating_pivot \n",
    "                 "
   ]
  },
  {
   "cell_type": "code",
   "execution_count": 12,
   "metadata": {},
   "outputs": [
    {
     "name": "stdout",
     "output_type": "stream",
     "text": [
      "  (0, 1021)\t8.0\n",
      "  (1, 28248)\t8.0\n",
      "  (2, 19834)\t8.0\n",
      "  (3, 50058)\t8.0\n",
      "  (4, 17152)\t8.0\n",
      "  (5, 3257)\t8.0\n",
      "  (5, 13783)\t8.0\n",
      "  (6, 7970)\t8.0\n",
      "  (6, 8001)\t8.0\n",
      "  (7, 32287)\t8.0\n",
      "  (8, 21675)\t8.0\n",
      "  (8, 23403)\t8.0\n",
      "  (9, 46122)\t8.0\n",
      "  (9, 46125)\t8.0\n",
      "  (9, 46298)\t8.0\n",
      "  (10, 1708)\t8.0\n",
      "  (11, 4831)\t8.0\n",
      "  (12, 21295)\t8.0\n",
      "  (13, 30997)\t8.0\n",
      "  (14, 24619)\t8.0\n",
      "  (15, 28162)\t8.0\n",
      "  (16, 2181)\t8.0\n",
      "  (16, 13865)\t8.0\n",
      "  (16, 39796)\t8.0\n",
      "  (17, 11826)\t8.0\n",
      "  :\t:\n",
      "  (28586, 30753)\t8.0\n",
      "  (28586, 34484)\t8.0\n",
      "  (28587, 26582)\t8.0\n",
      "  (28588, 2038)\t8.0\n",
      "  (28589, 23614)\t8.0\n",
      "  (28589, 28099)\t8.0\n",
      "  (28589, 36044)\t8.0\n",
      "  (28590, 30098)\t8.0\n",
      "  (28591, 33189)\t8.0\n",
      "  (28592, 38991)\t8.0\n",
      "  (28593, 21569)\t8.0\n",
      "  (28594, 14628)\t8.0\n",
      "  (28595, 30474)\t8.0\n",
      "  (28596, 9063)\t8.0\n",
      "  (28597, 5022)\t8.0\n",
      "  (28597, 15613)\t8.0\n",
      "  (28597, 27223)\t8.0\n",
      "  (28597, 28999)\t8.0\n",
      "  (28597, 32742)\t8.0\n",
      "  (28597, 39034)\t8.0\n",
      "  (28598, 1730)\t8.0\n",
      "  (28599, 44937)\t8.0\n",
      "  (28599, 47190)\t8.0\n",
      "  (28600, 22561)\t8.0\n",
      "  (28601, 28137)\t8.0\n"
     ]
    }
   ],
   "source": [
    "# Convert matrix to sparse matrix for for further evaluation\n",
    "\n",
    "from scipy.sparse import csr_matrix\n",
    "\n",
    "new_bk_rating = csr_matrix(book_rating_pivot.values)\n",
    "print new_bk_rating\n"
   ]
  },
  {
   "cell_type": "code",
   "execution_count": 250,
   "metadata": {},
   "outputs": [
    {
     "name": "stdout",
     "output_type": "stream",
     "text": [
      "22998\n",
      "  (0, 5604)\t8.0\n"
     ]
    }
   ],
   "source": [
    "new_query = np.random.choice(new_bk_rating.shape[0])\n",
    "print new_query\n",
    "\n",
    "target = new_bk_rating[new_query,:]\n",
    "print target\n"
   ]
  },
  {
   "cell_type": "code",
   "execution_count": 251,
   "metadata": {},
   "outputs": [],
   "source": [
    "# Split the matrix into train and test (80/20 %) \n",
    "\n",
    "from sklearn.model_selection import train_test_split\n",
    "train_data, test_data =train_test_split(new_bk_rating, test_size=0.2)\n"
   ]
  },
  {
   "cell_type": "code",
   "execution_count": 252,
   "metadata": {},
   "outputs": [
    {
     "data": {
      "text/plain": [
       "NearestNeighbors(algorithm='brute', leaf_size=30, metric='cosine',\n",
       "         metric_params=None, n_jobs=1, n_neighbors=5, p=2, radius=1.0)"
      ]
     },
     "execution_count": 252,
     "metadata": {},
     "output_type": "execute_result"
    }
   ],
   "source": [
    "# Fit model(knn) on training data\n",
    "\n",
    "from sklearn.neighbors import NearestNeighbors\n",
    "knn_model_t = NearestNeighbors(metric = 'cosine', algorithm = 'brute')\n",
    "knn_model_t.fit(train_data)\n"
   ]
  },
  {
   "cell_type": "code",
   "execution_count": 253,
   "metadata": {},
   "outputs": [
    {
     "name": "stdout",
     "output_type": "stream",
     "text": [
      "[[0.         0.29289322 0.73273876 0.91780051 1.         1.\n",
      "  1.         1.        ]]\n",
      "[[ 2343 12272 10564 19974 15254 15255 15253 15257]]\n"
     ]
    }
   ],
   "source": [
    "dist,ind = knn_model_t.kneighbors(target, n_neighbors = 8)\n",
    "print dist\n",
    "print ind\n"
   ]
  },
  {
   "cell_type": "code",
   "execution_count": 254,
   "metadata": {},
   "outputs": [],
   "source": [
    "from sklearn.metrics import mean_squared_error\n",
    "\n"
   ]
  },
  {
   "cell_type": "code",
   "execution_count": 255,
   "metadata": {},
   "outputs": [],
   "source": [
    "def rmse(trains,tests): \n",
    "    return np.sqrt(np.vdot(trains,trains.T)/trains.size)\n"
   ]
  },
  {
   "cell_type": "code",
   "execution_count": 256,
   "metadata": {},
   "outputs": [
    {
     "name": "stdout",
     "output_type": "stream",
     "text": [
      "  (0, 17514)\t0.02961744388795462\n",
      "  (0, 17353)\t0.02961744388795462\n",
      "  (0, 17006)\t0.02961744388795462\n",
      "  (0, 11607)\t0.02961744388795462\n",
      "  (0, 5689)\t0.02961744388795462\n",
      "  (0, 1512)\t0.02961744388795462\n",
      "  (0, 201)\t0.02961744388795462\n",
      "  (0, 0)\t0.02961744388795462\n",
      "  (1, 20812)\t0.02961744388795462\n",
      "  (1, 16774)\t0.02961744388795462\n",
      "  (1, 11074)\t0.02961744388795462\n",
      "  (1, 10749)\t0.02961744388795462\n",
      "  (1, 2075)\t0.02961744388795462\n",
      "  (1, 1)\t0.02961744388795462\n",
      "  (2, 2)\t0.041885390829169554\n",
      "  (3, 21309)\t0.02961744388795462\n",
      "  (3, 20474)\t0.02961744388795462\n",
      "  (3, 12155)\t0.02961744388795462\n",
      "  (3, 2019)\t0.02961744388795462\n",
      "  (3, 3)\t0.051298917604257706\n",
      "  (4, 21212)\t0.02961744388795462\n",
      "  (4, 19990)\t0.02961744388795462\n",
      "  (4, 11310)\t0.02961744388795462\n",
      "  (4, 22487)\t0.02961744388795462\n",
      "  (4, 21711)\t0.02961744388795462\n",
      "  :\t:\n",
      "  (22873, 19805)\t0.02961744388795462\n",
      "  (22873, 19642)\t0.02961744388795462\n",
      "  (22873, 18287)\t0.02961744388795462\n",
      "  (22873, 17991)\t0.02961744388795462\n",
      "  (22873, 11814)\t0.02961744388795462\n",
      "  (22873, 8785)\t0.02961744388795462\n",
      "  (22873, 4816)\t0.02961744388795462\n",
      "  (22874, 22874)\t0.02961744388795462\n",
      "  (22874, 17388)\t0.02961744388795462\n",
      "  (22874, 2121)\t0.02961744388795462\n",
      "  (22874, 279)\t0.02961744388795462\n",
      "  (22875, 22875)\t0.02961744388795462\n",
      "  (22875, 19896)\t0.02961744388795462\n",
      "  (22875, 19741)\t0.02961744388795462\n",
      "  (22875, 14798)\t0.02961744388795462\n",
      "  (22875, 5395)\t0.02961744388795462\n",
      "  (22876, 22876)\t0.02961744388795462\n",
      "  (22877, 22877)\t0.06622661785325219\n",
      "  (22878, 22878)\t0.02961744388795462\n",
      "  (22878, 14540)\t0.02961744388795462\n",
      "  (22878, 3296)\t0.02961744388795462\n",
      "  (22879, 22879)\t0.02961744388795462\n",
      "  (22879, 6495)\t0.02961744388795462\n",
      "  (22880, 22880)\t0.02961744388795462\n",
      "  (22880, 12423)\t0.02961744388795462\n",
      "[[0.02961744 0.         0.         ... 0.         0.         0.        ]]\n"
     ]
    }
   ],
   "source": [
    "# Calculate RMSE on train data\n",
    "\n",
    "train_rmse = rmse(train_data, target)\n",
    "print train_rmse\n",
    "print train_rmse[0,:].toarray()\n"
   ]
  },
  {
   "cell_type": "code",
   "execution_count": 257,
   "metadata": {},
   "outputs": [
    {
     "name": "stdout",
     "output_type": "stream",
     "text": [
      "('Recommendation for Book:', 'Sooner or Later')\n",
      "(1, \"The Midwife's Apprentice (Trophy Newbery)\")\n",
      "(2, 'Frische Goldjungs. Storys.')\n",
      "(3, 'Teratologist')\n",
      "(4, 'A Murder, a Mystery and a Marriage: A Story')\n",
      "(5, 'An Artist of the Floating World (Vintage International)')\n",
      "(6, 'Tangerine')\n",
      "(7, 'The Ten Thousand: A Novel of Ancient Greece')\n"
     ]
    }
   ],
   "source": [
    "for i in range(0,len(dist.flatten())):\n",
    "    if i == 0: \n",
    "        print ('Recommendation for Book:', books.Book_Title[ind.flatten()[i]])\n",
    "    else:    \n",
    "        \n",
    "        print (i, books.Book_Title[ind.flatten()[i]]) \n",
    "            "
   ]
  },
  {
   "cell_type": "code",
   "execution_count": null,
   "metadata": {},
   "outputs": [],
   "source": []
  },
  {
   "cell_type": "code",
   "execution_count": 258,
   "metadata": {},
   "outputs": [
    {
     "data": {
      "text/plain": [
       "NearestNeighbors(algorithm='brute', leaf_size=30, metric='cosine',\n",
       "         metric_params=None, n_jobs=1, n_neighbors=5, p=2, radius=1.0)"
      ]
     },
     "execution_count": 258,
     "metadata": {},
     "output_type": "execute_result"
    }
   ],
   "source": [
    "# Apply knn to test matrix \n",
    "\n",
    "knn_model_test = NearestNeighbors(metric = 'cosine', algorithm = 'brute')\n",
    "knn_model_test.fit(test_data)\n"
   ]
  },
  {
   "cell_type": "code",
   "execution_count": 259,
   "metadata": {},
   "outputs": [
    {
     "name": "stdout",
     "output_type": "stream",
     "text": [
      "[[0. 1. 1. 1. 1. 1. 1. 1.]]\n",
      "[[1485 3815 3813 3814 3812 3816 3818 3810]]\n"
     ]
    }
   ],
   "source": [
    "dist,ind = knn_model_test.kneighbors(target, n_neighbors = 8)\n",
    "print dist\n",
    "print ind\n"
   ]
  },
  {
   "cell_type": "code",
   "execution_count": 260,
   "metadata": {},
   "outputs": [
    {
     "name": "stdout",
     "output_type": "stream",
     "text": [
      "[[0.34307362 0.         0.         ... 0.         0.         0.        ]]\n"
     ]
    }
   ],
   "source": [
    "# Calculate RMSE on test data\n",
    "\n",
    "test_rmse = rmse(test_data, target)\n",
    "print test_rmse[0,:].toarray()\n"
   ]
  },
  {
   "cell_type": "code",
   "execution_count": 262,
   "metadata": {},
   "outputs": [
    {
     "name": "stdout",
     "output_type": "stream",
     "text": [
      "('Recommendation for Book:', 'Bel Canto: A Novel')\n",
      "(1, 'Becoming a Writer')\n",
      "(2, 'French Lessons: A Memoir')\n",
      "(3, 'The Boys of My Youth')\n",
      "(4, 'The Dwarf')\n",
      "(5, 'Fear of Flying')\n",
      "(6, 'A Circle of Silver (Circle of Silver Chronicles)')\n",
      "(7, 'The Women of Brewster Place (Penguin Contemporary American Fiction Series)')\n"
     ]
    }
   ],
   "source": [
    "for i in range(0,len(dist.flatten())):\n",
    "    if i == 0: \n",
    "        print ('Recommendation for Book:', books.Book_Title[ind.flatten()[i]])\n",
    "    else:    \n",
    "        \n",
    "        print (i, books.Book_Title[ind.flatten()[i]]) \n",
    "            "
   ]
  },
  {
   "cell_type": "code",
   "execution_count": null,
   "metadata": {},
   "outputs": [],
   "source": []
  }
 ],
 "metadata": {
  "kernelspec": {
   "display_name": "Python 2",
   "language": "python",
   "name": "python2"
  },
  "language_info": {
   "codemirror_mode": {
    "name": "ipython",
    "version": 2
   },
   "file_extension": ".py",
   "mimetype": "text/x-python",
   "name": "python",
   "nbconvert_exporter": "python",
   "pygments_lexer": "ipython2",
   "version": "2.7.14"
  }
 },
 "nbformat": 4,
 "nbformat_minor": 2
}
